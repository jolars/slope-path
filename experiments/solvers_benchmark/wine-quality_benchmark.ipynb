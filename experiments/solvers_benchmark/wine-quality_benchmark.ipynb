{
 "cells": [
  {
   "cell_type": "markdown",
   "metadata": {},
   "source": [
    "# Solvers benchmark on the `Wine Quality` data set\n",
    "\n",
    "The data set can be downloaded from <http://archive.ics.uci.edu/ml/datasets/Wine+Quality>.\n",
    "\n",
    "The solvers (except our `path_solver`) were coded by Larsson et al. for the benchmark of their paper *Coordinate Descent for SLOPE*; their code is available at <https://github.com/jolars/slopecd> and needs to be installed to run the simulations here."
   ]
  },
  {
   "cell_type": "code",
   "execution_count": 1,
   "metadata": {},
   "outputs": [],
   "source": [
    "import sys\n",
    "import numpy as np\n",
    "import pandas as pd\n",
    "from timeit import repeat\n",
    "\n",
    "sys.path.append('../..')\n",
    "from modules import path_solver, dual_sorted_L1_norm as dual_norm\n",
    "from slope.solvers import prox_grad, admm, hybrid_cd #, newt_alm, oracle_cd"
   ]
  },
  {
   "cell_type": "code",
   "execution_count": 2,
   "metadata": {},
   "outputs": [],
   "source": [
    "# Import of the data set\n",
    "wine = pd.read_csv('../datasets/winequality-red.csv', sep=';')\n",
    "data = wine.drop(columns=['quality'])\n",
    "target = wine['quality']"
   ]
  },
  {
   "cell_type": "code",
   "execution_count": 3,
   "metadata": {},
   "outputs": [],
   "source": [
    "# Setting (and data standardization)\n",
    "X = data.to_numpy(dtype=float)\n",
    "X_mean = X.mean(axis=0)\n",
    "X_std = X.std(axis=0, ddof=0)\n",
    "X = (X - X_mean) / X_std\n",
    "\n",
    "y = target.to_numpy(dtype=float)\n",
    "y_mean = y.mean()\n",
    "y = y - y_mean\n",
    "\n",
    "# Lambda = np.linspace(4,1,X.shape[-1],dtype=float)\n",
    "Lambda = np.sqrt(range(1,12))-np.sqrt(range(0,11))"
   ]
  },
  {
   "cell_type": "code",
   "execution_count": 4,
   "metadata": {},
   "outputs": [],
   "source": [
    "# # Numba compilation\n",
    "# _ = path_solver(X, y, Lambda, k_max=0., rtol_pattern=1e-6, atol_pattern = 1e-6, rtol_gamma=1e-6, split_max=1e1, log=0)\n",
    "# _ = hybrid_cd(X, y, Lambda, fit_intercept=False, tol=1e-1)\n",
    "# # _ = oracle_cd(X, y, Lambda, fit_intercept=False, tol=1e-1)\n",
    "# _ = admm(X, y, Lambda, fit_intercept=False, rho=100, adaptive_rho=False, tol=1e-1)\n",
    "# # _ = newt_alm(X, y, Lambda, fit_intercept=False, tol=1e-1)\n",
    "# _ = prox_grad(X, y, Lambda, fit_intercept=False, tol=1e-1)"
   ]
  },
  {
   "cell_type": "code",
   "execution_count": 5,
   "metadata": {},
   "outputs": [
    {
     "name": "stdout",
     "output_type": "stream",
     "text": [
      "[ 0.01771704 -0.0767345   0.06228448  0.         -0.05466252  0.\n",
      " -0.06228448 -0.06228448 -0.          0.0767345   0.0767345 ] 479.1821639573727 2.9309887850104133e-13\n",
      "FISTA: 1.54e-02s\n",
      "[ 0.01771704 -0.0767345   0.06228448  0.         -0.05466252  0.\n",
      " -0.06228448 -0.06228448  0.          0.0767345   0.0767345 ] 479.18216395737244 2.4980018054066022e-15\n",
      "Anderson PGD: 3.28e-03s\n",
      "[ 1.77170375e-02 -7.67345017e-02  6.22844801e-02  2.61756177e-12\n",
      " -5.46625248e-02  6.83378722e-12 -6.22844801e-02 -6.22844801e-02\n",
      " -3.36268458e-12  7.67345017e-02  7.67345017e-02] 479.18216395882337 9.11604125519716e-13\n",
      "ADMM: 1.30e-02s\n",
      "[ 0.01771704 -0.0767345   0.06228448  0.         -0.05466252  0.\n",
      " -0.06228448 -0.06228448 -0.          0.0767345   0.0767345 ] 479.18216395737306 7.271960811294775e-15\n",
      "hybrid CD: 4.11e-03s\n"
     ]
    },
    {
     "name": "stderr",
     "output_type": "stream",
     "text": [
      "/Users/xdupuis/Research/slope-path/github/experiments/solvers_benchmark/../../modules/solvers.py:89: NumbaExperimentalFeatureWarning: Use of isinstance() detected. This is an experimental feature.\n",
      "  m = face_pattern(grad, Lambda, rtol_pattern, atol_pattern)\n"
     ]
    },
    {
     "name": "stdout",
     "output_type": "stream",
     "text": [
      "[ 0.01771704 -0.0767345   0.06228448  0.         -0.05466252  0.\n",
      " -0.06228448 -0.06228448  0.          0.0767345   0.0767345 ] 479.1821639573734 -1.1368683772161603e-12\n",
      "path (our): 2.16e-03s\n"
     ]
    }
   ],
   "source": [
    "# Check-up and numba compilation\n",
    "gamma = dual_norm(X.T@y, Lambda) / 2\n",
    "nb_loops = 1; nb_runs = 1\n",
    "\n",
    "# FISTA\n",
    "sol, intercept, primals, gaps, times = prox_grad(X, y, gamma/X.shape[0]*Lambda, fit_intercept=False, fista=True, tol=1e-12)\n",
    "print(sol, X.shape[0]*primals[-1], gaps[-1])\n",
    "time_fista =np.mean(repeat('prox_grad(X, y, gamma/X.shape[0]*Lambda, fit_intercept=False, fista=True, tol=1e-12)',\n",
    "                   repeat=nb_runs, number=nb_loops, globals=globals()))/nb_loops\n",
    "print(f'FISTA: {time_fista:.2e}s')\n",
    "\n",
    "# Anderson PGD\n",
    "sol, intercept, primals, gaps, times = prox_grad(X, y, gamma/X.shape[0]*Lambda, fit_intercept=False, anderson=True, tol=1e-12)\n",
    "print(sol, X.shape[0]*primals[-1], gaps[-1])\n",
    "time_pgd =np.mean(repeat('prox_grad(X, y, gamma/X.shape[0]*Lambda, fit_intercept=False, anderson=True, tol=1e-12)',\n",
    "                   repeat=nb_runs, number=nb_loops, globals=globals()))/nb_loops\n",
    "print(f'Anderson PGD: {time_pgd:.2e}s')\n",
    "\n",
    "# ADMM (with rho=100)\n",
    "sol, intercept, primals, gaps, times = admm(X, y, gamma/X.shape[0]*Lambda, fit_intercept=False, rho=100, adaptive_rho=False, tol=1e-12)\n",
    "print(sol, X.shape[0]*primals[-1], gaps[-1])\n",
    "time_admm =np.mean(repeat('admm(X, y, gamma/X.shape[0]*Lambda, fit_intercept=False, rho=100, adaptive_rho=False, tol=1e-12)',\n",
    "                   repeat=nb_runs, number=nb_loops, globals=globals()))/nb_loops\n",
    "print(f'ADMM: {time_admm:.2e}s')\n",
    "\n",
    "# hybrid CD\n",
    "sol, intercept, primals, gaps, times, n_cluster = hybrid_cd(X, y, gamma/X.shape[0]*Lambda, fit_intercept=False, tol=1e-12)\n",
    "print(sol, X.shape[0]*primals[-1], gaps[-1])\n",
    "time_cd =np.mean(repeat('hybrid_cd(X, y, gamma/X.shape[0]*Lambda, fit_intercept=False, tol=1e-12)',\n",
    "                   repeat=nb_runs, number=nb_loops, globals=globals()))/nb_loops\n",
    "print(f'hybrid CD: {time_cd:.2e}s')\n",
    "\n",
    "# path (our)\n",
    "sol, (primal, gap), k = path_solver(X, y, gamma*Lambda, k_max=1e3, rtol_pattern=1e-10, atol_pattern = 1e-10, rtol_gamma=1e-10, split_max=1e1, log=0)\n",
    "print(sol, primal, gap)\n",
    "time_path =np.mean(repeat('path_solver(X, y, gamma*Lambda, k_max=1e3, rtol_pattern=1e-10, atol_pattern = 1e-10, rtol_gamma=1e-10, split_max=1e1, log=0)',\n",
    "                   repeat=nb_runs, number=nb_loops, globals=globals()))/nb_loops\n",
    "print(f'path (our): {time_path:.2e}s')\n",
    "\n",
    "# # oracle CD\n",
    "# sol, intercept, primals, gaps, times = oracle_cd(X, y, gamma/X.shape[0]*Lambda, fit_intercept=False, tol=1e-12)\n",
    "# print(sol, X.shape[0]*primals[-1], gaps[-1])\n",
    "# time_oracle =np.mean(repeat('oracle_cd(X, y, gamma/X.shape[0]*Lambda, fit_intercept=False, tol=1e-12)',\n",
    "#                    repeat=nb_runs, number=nb_loops, globals=globals()))/nb_loops\n",
    "# print(f'oracle CD: {time_oracle:.2e}s')\n",
    "\n",
    "# # Newt-ALM\n",
    "# sol, intercept, primals, gaps, times = newt_alm(X, y, gamma/X.shape[0]*Lambda, fit_intercept=False, tol=1e-12)\n",
    "# print(sol, X.shape[0]*primals[-1], gaps[-1])\n",
    "# time_newt_alm =np.mean(repeat('newt_alm(X, y, gamma/X.shape[0]*Lambda, fit_intercept=False, tol=1e-12)',\n",
    "#                    repeat=nb_runs, number=nb_loops, globals=globals()))/nb_loops\n",
    "# print(f'Newt-ALM: {time_newt_alm:.2e}s')"
   ]
  },
  {
   "cell_type": "code",
   "execution_count": 6,
   "metadata": {},
   "outputs": [],
   "source": [
    "# Benchmark\n",
    "nb_loops = 1000; nb_runs = 7 # nb_loops = 1000\n",
    "\n",
    "benchmark = pd.DataFrame({},index=['FISTA', 'Anderson PGD', 'ADMM (rho=100)', 'hybrid CD', 'path (our)'])\n",
    "benchmark.columns.name='gamma / gamma_max'\n",
    "\n",
    "for ratio in [0.5, 0.1, 0.02]:\n",
    "    gamma = ratio*dual_norm(X.T@y, Lambda)\n",
    "    time_fista =np.mean(repeat('prox_grad(X, y, gamma/X.shape[0]*Lambda, fit_intercept=False, fista=True, tol=1e-12)',\n",
    "                        repeat=nb_runs, number=nb_loops, globals=globals()))/nb_loops\n",
    "    time_pgd =np.mean(repeat('prox_grad(X, y, gamma/X.shape[0]*Lambda, fit_intercept=False, anderson=True, tol=1e-12)',\n",
    "                      repeat=nb_runs, number=nb_loops, globals=globals()))/nb_loops\n",
    "    time_admm =np.mean(repeat('admm(X, y, gamma/X.shape[0]*Lambda, fit_intercept=False, rho=100, adaptive_rho=False, tol=1e-12)',\n",
    "                       repeat=nb_runs, number=nb_loops, globals=globals()))/nb_loops\n",
    "    time_cd =np.mean(repeat('hybrid_cd(X, y, gamma/X.shape[0]*Lambda, fit_intercept=False, tol=1e-12)',\n",
    "                     repeat=nb_runs, number=nb_loops, globals=globals()))/nb_loops\n",
    "    time_path =np.mean(repeat('path_solver(X, y, gamma*Lambda, k_max=1e3, rtol_pattern=1e-10, atol_pattern = 1e-10, rtol_gamma=1e-10, split_max=1e1, log=0)',\n",
    "                       repeat=nb_runs, number=nb_loops, globals=globals()))/nb_loops\n",
    "    benchmark[f'{ratio}'] = [time_fista, time_pgd, time_admm, time_cd, time_path]\n",
    "    \n",
    "with pd.option_context('display.float_format', '{:,.2e}'.format):\n",
    "    display(benchmark)"
   ]
  },
  {
   "cell_type": "code",
   "execution_count": null,
   "metadata": {},
   "outputs": [],
   "source": [
    "benchmark.to_csv('wine-quality_benchmark.csv', float_format='{:.2e}'.format, mode='a')"
   ]
  },
  {
   "cell_type": "code",
   "execution_count": null,
   "metadata": {},
   "outputs": [],
   "source": [
    "with open('wine-quality_benchmark.txt', 'a') as f:\n",
    "                f.write(benchmark.to_latex(float_format='{:.2e}'.format))\n",
    "# print(benchmark.to_latex(float_format='{:.2e}'.format))"
   ]
  }
 ],
 "metadata": {
  "kernelspec": {
   "display_name": "Python 3 (ipykernel)",
   "language": "python",
   "name": "python3"
  },
  "language_info": {
   "codemirror_mode": {
    "name": "ipython",
    "version": 3
   },
   "file_extension": ".py",
   "mimetype": "text/x-python",
   "name": "python",
   "nbconvert_exporter": "python",
   "pygments_lexer": "ipython3",
   "version": "3.9.18"
  }
 },
 "nbformat": 4,
 "nbformat_minor": 4
}
