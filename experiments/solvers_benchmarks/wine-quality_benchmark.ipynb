{
 "cells": [
  {
   "cell_type": "markdown",
   "metadata": {},
   "source": [
    "# Solvers benchmark on the `Wine Quality` data set\n",
    "\n",
    "The data set can be downloaded from <http://archive.ics.uci.edu/ml/datasets/Wine+Quality>.\n",
    "\n",
    "The solvers (except our `path_solver`) were coded by Larsson et al. for the benchmark of their paper *Coordinate Descent for SLOPE*; their code is available at <https://github.com/jolars/slopecd> and needs to be installed to run the simulations here."
   ]
  },
  {
   "cell_type": "code",
   "execution_count": 1,
   "metadata": {},
   "outputs": [],
   "source": [
    "import sys\n",
    "import numpy as np\n",
    "import pandas as pd\n",
    "from timeit import repeat\n",
    "\n",
    "sys.path.append('../..')\n",
    "from modules import path_solver, dual_sorted_L1_norm as dual_norm, PD_gap\n",
    "from slope.solvers import prox_grad, admm, hybrid_cd #, newt_alm, oracle_cd"
   ]
  },
  {
   "cell_type": "code",
   "execution_count": 2,
   "metadata": {},
   "outputs": [],
   "source": [
    "# Import of the data set\n",
    "wine = pd.read_csv('../datasets/winequality-red.csv', sep=';')\n",
    "data = wine.drop(columns=['quality'])\n",
    "target = wine['quality']"
   ]
  },
  {
   "cell_type": "code",
   "execution_count": 3,
   "metadata": {},
   "outputs": [],
   "source": [
    "# Setting (and data standardization)\n",
    "X = data.to_numpy(dtype=float)\n",
    "X_mean = X.mean(axis=0)\n",
    "X_std = X.std(axis=0, ddof=0)\n",
    "X = (X - X_mean) / X_std\n",
    "\n",
    "y = target.to_numpy(dtype=float)\n",
    "y_mean = y.mean()\n",
    "y = y - y_mean\n",
    "\n",
    "# Lambda = np.linspace(4,1,X.shape[-1],dtype=float)\n",
    "Lambda = np.sqrt(range(1,12))-np.sqrt(range(0,11))"
   ]
  },
  {
   "cell_type": "code",
   "execution_count": 4,
   "metadata": {},
   "outputs": [],
   "source": [
    "# # Numba compilation\n",
    "# _ = path_solver(X, y, Lambda, k_max=0., rtol_pattern=1e-6, atol_pattern = 1e-6, rtol_gamma=1e-6, split_max=1e1, log=0)\n",
    "# _ = hybrid_cd(X, y, Lambda, fit_intercept=False, tol=1e-1)\n",
    "# # _ = oracle_cd(X, y, Lambda, fit_intercept=False, tol=1e-1)\n",
    "# _ = admm(X, y, Lambda, fit_intercept=False, rho=100, adaptive_rho=False, tol=1e-1)\n",
    "# # _ = newt_alm(X, y, Lambda, fit_intercept=False, tol=1e-1)\n",
    "# _ = prox_grad(X, y, Lambda, fit_intercept=False, tol=1e-1)"
   ]
  },
  {
   "cell_type": "code",
   "execution_count": 15,
   "metadata": {},
   "outputs": [
    {
     "name": "stdout",
     "output_type": "stream",
     "text": [
      "FISTA: 5.02e-01s\n",
      "[ 0.07328962 -0.17520925  0.          0.03055732 -0.08215734  0.01589062\n",
      " -0.08431084 -0.08431084 -0.014562    0.14920723  0.20882182] 374.52499980726094 9.76385639006594e-13 \n",
      "\n",
      "Anderson PGD: 5.95e-02s\n",
      "[ 0.07328962 -0.17520925  0.          0.03055732 -0.08215734  0.01589062\n",
      " -0.08431084 -0.08431084 -0.014562    0.14920723  0.20882182] 374.52499980726094 9.76385639006594e-13 \n",
      "\n",
      "ADMM: 1.72e-02s\n",
      "[ 7.32896188e-02 -1.75209246e-01  6.82586500e-14  3.05573223e-02\n",
      " -8.21573432e-02  1.58906203e-02 -8.43108421e-02 -8.43108421e-02\n",
      " -1.45619996e-02  1.49207231e-01  2.08821822e-01] 374.5249998072608 9.76385639006594e-13 \n",
      "\n",
      "hybrid CD: 5.57e-03s\n",
      "[ 0.07328962 -0.17520925  0.          0.03055732 -0.08215734  0.01589062\n",
      " -0.08431084 -0.08431084 -0.014562    0.14920723  0.20882182] 374.52499980726094 9.76385639006594e-13 \n",
      "\n",
      "path (our): 2.46e-03s\n",
      "[ 0.07328962 -0.17520925  0.          0.03055732 -0.08215734  0.01589062\n",
      " -0.08431084 -0.08431084 -0.014562    0.14920723  0.20882182] 374.5249998072609 -1.6484591469634324e-12 \n",
      "\n"
     ]
    }
   ],
   "source": [
    "# Check-up and numba compilation\n",
    "ratio = 0.1; gamma = ratio*dual_norm(X.T@y, Lambda)\n",
    "nb_loops = 1; nb_runs = 1\n",
    "\n",
    "# FISTA\n",
    "sol, intercept, primals, gaps, times = prox_grad(X, y, gamma/X.shape[0]*Lambda, fit_intercept=False, fista=True, tol=1e-12/X.shape[0])\n",
    "time_fista =np.mean(repeat('prox_grad(X, y, gamma/X.shape[0]*Lambda, fit_intercept=False, fista=True, tol=1e-12/X.shape[0])',\n",
    "                   repeat=nb_runs, number=nb_loops, globals=globals()))/nb_loops\n",
    "print(f'FISTA: {time_fista:.2e}s')\n",
    "print(sol, X.shape[0]*primals[-1], X.shape[0]*gaps[-1],'\\n')\n",
    "\n",
    "# Anderson PGD\n",
    "sol, intercept, primals, gaps, times = prox_grad(X, y, gamma/X.shape[0]*Lambda, fit_intercept=False, anderson=True, tol=1e-12/X.shape[0])\n",
    "time_pgd =np.mean(repeat('prox_grad(X, y, gamma/X.shape[0]*Lambda, fit_intercept=False, anderson=True, tol=1e-12/X.shape[0])',\n",
    "                   repeat=nb_runs, number=nb_loops, globals=globals()))/nb_loops\n",
    "print(f'Anderson PGD: {time_pgd:.2e}s')\n",
    "print(sol, X.shape[0]*primals[-1], X.shape[0]*gaps[-1],'\\n')\n",
    "\n",
    "# ADMM (with rho=100)\n",
    "sol, intercept, primals, gaps, times = admm(X, y, gamma/X.shape[0]*Lambda, fit_intercept=False, rho=100, adaptive_rho=False, tol=1e-12/X.shape[0])\n",
    "time_admm =np.mean(repeat('admm(X, y, gamma/X.shape[0]*Lambda, fit_intercept=False, rho=100, adaptive_rho=False, tol=1e-12/X.shape[0])',\n",
    "                   repeat=nb_runs, number=nb_loops, globals=globals()))/nb_loops\n",
    "print(f'ADMM: {time_admm:.2e}s')\n",
    "print(sol, X.shape[0]*primals[-1], X.shape[0]*gaps[-1],'\\n')\n",
    "\n",
    "# hybrid CD\n",
    "sol, intercept, primals, gaps, times, n_cluster = hybrid_cd(X, y, gamma/X.shape[0]*Lambda, fit_intercept=False, tol=1e-12/X.shape[0])\n",
    "time_cd =np.mean(repeat('hybrid_cd(X, y, gamma/X.shape[0]*Lambda, fit_intercept=False, tol=1e-12/X.shape[0])',\n",
    "                   repeat=nb_runs, number=nb_loops, globals=globals()))/nb_loops\n",
    "print(f'hybrid CD: {time_cd:.2e}s')\n",
    "print(sol, X.shape[0]*primals[-1], X.shape[0]*gaps[-1],'\\n')\n",
    "\n",
    "# path (our)\n",
    "sol, (primal, gap), k = path_solver(X, y, gamma*Lambda, k_max=1e3, rtol_pattern=1e-10, atol_pattern = 1e-10, rtol_gamma=1e-10, split_max=1e1, log=0)\n",
    "time_path =np.mean(repeat('path_solver(X, y, gamma*Lambda, k_max=1e3, rtol_pattern=1e-10, atol_pattern = 1e-10, rtol_gamma=1e-10, split_max=1e1, log=0)',\n",
    "                   repeat=nb_runs, number=nb_loops, globals=globals()))/nb_loops\n",
    "print(f'path (our): {time_path:.2e}s')\n",
    "print(sol, primal, gap, '\\n')\n",
    "\n",
    "# # oracle CD\n",
    "# sol, intercept, primals, gaps, times = oracle_cd(X, y, gamma/X.shape[0]*Lambda, fit_intercept=False, tol=1e-12)\n",
    "# print(sol, X.shape[0]*primals[-1], gaps[-1])\n",
    "# time_oracle =np.mean(repeat('oracle_cd(X, y, gamma/X.shape[0]*Lambda, fit_intercept=False, tol=1e-12)',\n",
    "#                    repeat=nb_runs, number=nb_loops, globals=globals()))/nb_loops\n",
    "# print(f'oracle CD: {time_oracle:.2e}s')\n",
    "\n",
    "# # Newt-ALM\n",
    "# sol, intercept, primals, gaps, times = newt_alm(X, y, gamma/X.shape[0]*Lambda, fit_intercept=False, tol=1e-12)\n",
    "# print(sol, X.shape[0]*primals[-1], gaps[-1])\n",
    "# time_newt_alm =np.mean(repeat('newt_alm(X, y, gamma/X.shape[0]*Lambda, fit_intercept=False, tol=1e-12)',\n",
    "#                    repeat=nb_runs, number=nb_loops, globals=globals()))/nb_loops\n",
    "# print(f'Newt-ALM: {time_newt_alm:.2e}s')"
   ]
  },
  {
   "cell_type": "code",
   "execution_count": 9,
   "metadata": {},
   "outputs": [],
   "source": [
    "# Benchmark\n",
    "benchmark = pd.DataFrame({},index=['FISTA', 'Anderson PGD', 'ADMM (rho=100)', 'hybrid CD', 'path (our)'])\n",
    "benchmark.columns.name='gamma / gamma_max'"
   ]
  },
  {
   "cell_type": "code",
   "execution_count": 16,
   "metadata": {},
   "outputs": [
    {
     "data": {
      "text/html": [
       "<div>\n",
       "<style scoped>\n",
       "    .dataframe tbody tr th:only-of-type {\n",
       "        vertical-align: middle;\n",
       "    }\n",
       "\n",
       "    .dataframe tbody tr th {\n",
       "        vertical-align: top;\n",
       "    }\n",
       "\n",
       "    .dataframe thead th {\n",
       "        text-align: right;\n",
       "    }\n",
       "</style>\n",
       "<table border=\"1\" class=\"dataframe\">\n",
       "  <thead>\n",
       "    <tr style=\"text-align: right;\">\n",
       "      <th>gamma / gamma_max</th>\n",
       "      <th>0.5</th>\n",
       "      <th>0.1</th>\n",
       "    </tr>\n",
       "  </thead>\n",
       "  <tbody>\n",
       "    <tr>\n",
       "      <th>FISTA</th>\n",
       "      <td>1.36e-02</td>\n",
       "      <td>4.47e-02</td>\n",
       "    </tr>\n",
       "    <tr>\n",
       "      <th>Anderson PGD</th>\n",
       "      <td>5.26e-03</td>\n",
       "      <td>7.02e-02</td>\n",
       "    </tr>\n",
       "    <tr>\n",
       "      <th>ADMM (rho=100)</th>\n",
       "      <td>2.38e-02</td>\n",
       "      <td>7.18e-03</td>\n",
       "    </tr>\n",
       "    <tr>\n",
       "      <th>hybrid CD</th>\n",
       "      <td>2.39e-03</td>\n",
       "      <td>7.91e-03</td>\n",
       "    </tr>\n",
       "    <tr>\n",
       "      <th>path (our)</th>\n",
       "      <td>6.58e-04</td>\n",
       "      <td>4.51e-03</td>\n",
       "    </tr>\n",
       "  </tbody>\n",
       "</table>\n",
       "</div>"
      ],
      "text/plain": [
       "gamma / gamma_max      0.5      0.1\n",
       "FISTA             1.36e-02 4.47e-02\n",
       "Anderson PGD      5.26e-03 7.02e-02\n",
       "ADMM (rho=100)    2.38e-02 7.18e-03\n",
       "hybrid CD         2.39e-03 7.91e-03\n",
       "path (our)        6.58e-04 4.51e-03"
      ]
     },
     "metadata": {},
     "output_type": "display_data"
    }
   ],
   "source": [
    "nb_loops = 1000; nb_runs = 7\n",
    "# for ratio in [0.5, 0.1, 0.02]:\n",
    "gamma = ratio*dual_norm(X.T@y, Lambda)\n",
    "time_fista =np.mean(repeat('prox_grad(X, y, gamma/X.shape[0]*Lambda, fit_intercept=False, fista=True, tol=1e-12/X.shape[0])',\n",
    "                    repeat=nb_runs, number=nb_loops, globals=globals()))/nb_loops\n",
    "time_pgd =np.mean(repeat('prox_grad(X, y, gamma/X.shape[0]*Lambda, fit_intercept=False, anderson=True, tol=1e-12/X.shape[0])',\n",
    "                    repeat=nb_runs, number=nb_loops, globals=globals()))/nb_loops\n",
    "time_admm =np.mean(repeat('admm(X, y, gamma/X.shape[0]*Lambda, fit_intercept=False, rho=100, adaptive_rho=False, tol=1e-12/X.shape[0])',\n",
    "                    repeat=nb_runs, number=nb_loops, globals=globals()))/nb_loops\n",
    "time_cd =np.mean(repeat('hybrid_cd(X, y, gamma/X.shape[0]*Lambda, fit_intercept=False, tol=1e-12/X.shape[0])',\n",
    "                    repeat=nb_runs, number=nb_loops, globals=globals()))/nb_loops\n",
    "time_path =np.mean(repeat('path_solver(X, y, gamma*Lambda, k_max=1e3, rtol_pattern=1e-10, atol_pattern = 1e-10, rtol_gamma=1e-10, split_max=1e1, log=0)',\n",
    "                    repeat=nb_runs, number=nb_loops, globals=globals()))/nb_loops\n",
    "benchmark[f'{ratio}'] = [time_fista, time_pgd, time_admm, time_cd, time_path]\n",
    "with pd.option_context('display.float_format', '{:,.2e}'.format):\n",
    "    display(benchmark)   \n"
   ]
  },
  {
   "cell_type": "code",
   "execution_count": 17,
   "metadata": {},
   "outputs": [],
   "source": [
    "benchmark.to_csv('../results/wine-quality_benchmark.csv', float_format='{:.2e}'.format, mode='a')"
   ]
  },
  {
   "cell_type": "code",
   "execution_count": 18,
   "metadata": {},
   "outputs": [],
   "source": [
    "with open('../results/wine-quality_benchmark.txt', 'a') as f:\n",
    "                f.write(benchmark.to_latex(float_format='{:.2e}'.format))"
   ]
  },
  {
   "cell_type": "code",
   "execution_count": null,
   "metadata": {},
   "outputs": [],
   "source": []
  }
 ],
 "metadata": {
  "kernelspec": {
   "display_name": "Python 3 (ipykernel)",
   "language": "python",
   "name": "python3"
  },
  "language_info": {
   "codemirror_mode": {
    "name": "ipython",
    "version": 3
   },
   "file_extension": ".py",
   "mimetype": "text/x-python",
   "name": "python",
   "nbconvert_exporter": "python",
   "pygments_lexer": "ipython3",
   "version": "3.9.18"
  }
 },
 "nbformat": 4,
 "nbformat_minor": 4
}
