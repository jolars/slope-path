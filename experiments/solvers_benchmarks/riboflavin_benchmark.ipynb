{
 "cells": [
  {
   "cell_type": "markdown",
   "metadata": {},
   "source": [
    "# Solvers benchmark on the `Riboflavin` data set\n",
    "\n",
    "The data set can be downloaded from <https://www.annualreviews.org/doi/suppl/10.1146/annurev-statistics-022513-115545>.\n",
    "\n",
    "The solvers (except our `path_solver`) were coded by Larsson et al. for the benchmark of their paper [*Coordinate Descent for SLOPE*](https://proceedings.mlr.press/v206/larsson23a.html); their code is available at <https://github.com/jolars/slopecd> and needs to be installed to run the simulations here."
   ]
  },
  {
   "cell_type": "code",
   "execution_count": 1,
   "metadata": {},
   "outputs": [],
   "source": [
    "import sys\n",
    "import numpy as np\n",
    "import pandas as pd\n",
    "from timeit import repeat\n",
    "\n",
    "sys.path.append('../..')\n",
    "from modules import path_solver, dual_sorted_L1_norm as dual_norm\n",
    "from slope.solvers import prox_grad, admm, hybrid_cd #, newt_alm, oracle_cd"
   ]
  },
  {
   "cell_type": "code",
   "execution_count": 2,
   "metadata": {},
   "outputs": [],
   "source": [
    "# Import of the data set\n",
    "ribo = pd.read_csv('../datasets/riboflavin.csv', sep=',', index_col=0).T\n",
    "data = ribo.drop(columns='q_RIBFLV')\n",
    "target = ribo['q_RIBFLV']"
   ]
  },
  {
   "cell_type": "code",
   "execution_count": 3,
   "metadata": {},
   "outputs": [],
   "source": [
    "# Setting (and data standardization)\n",
    "X = data.to_numpy(dtype=float)\n",
    "X_mean = X.mean(axis=0)\n",
    "X_std = X.std(axis=0, ddof=0)\n",
    "X = (X - X_mean) / X_std\n",
    "\n",
    "y = target.to_numpy(dtype=float)\n",
    "y_mean = y.mean()\n",
    "y = y - y_mean \n",
    "\n",
    "Lambda = np.linspace(4,1,X.shape[-1],dtype=float)"
   ]
  },
  {
   "cell_type": "code",
   "execution_count": 6,
   "metadata": {},
   "outputs": [],
   "source": [
    "# Numba compilation\n",
    "_ = path_solver(X, y, Lambda, k_max=0., rtol_pattern=1e-6, atol_pattern = 1e-6, rtol_gamma=1e-6, split_max=1e1, log=0)\n",
    "_ = hybrid_cd(X, y, Lambda, fit_intercept=False, tol=1e-1)\n",
    "# _ = oracle_cd(X, y, Lambda, fit_intercept=False, tol=1e-1)\n",
    "_ = admm(X, y, Lambda, fit_intercept=False, rho=100, adaptive_rho=False, tol=1e-1)\n",
    "# _ = newt_alm(X, y, Lambda, fit_intercept=False, tol=1e-1)\n",
    "_ = prox_grad(X, y, Lambda, fit_intercept=False, tol=1e-1)"
   ]
  },
  {
   "cell_type": "code",
   "execution_count": null,
   "metadata": {},
   "outputs": [],
   "source": [
    "# Check-up and numba compilation\n",
    "ratio = 0.5; gamma = ratio*dual_norm(X.T@y, Lambda)\n",
    "nb_loops = 1; nb_runs = 1\n",
    "\n",
    "# FISTA\n",
    "sol, intercept, primals, gaps, times = prox_grad(X, y, gamma/X.shape[0]*Lambda, fit_intercept=False, fista=True, tol=1e-12/X.shape[0], max_epochs=1_000_000)\n",
    "time_fista =np.mean(repeat('prox_grad(X, y, gamma/X.shape[0]*Lambda, fit_intercept=False, fista=True, tol=1e-12/X.shape[0], max_epochs=1_000_000)',\n",
    "                   repeat=nb_runs, number=nb_loops, globals=globals()))/nb_loops\n",
    "print(f'FISTA: {time_fista:.2e}s')\n",
    "print(sol, X.shape[0]*primals[-1], X.shape[0]*gaps[-1], '\\n')\n",
    "\n",
    "# Anderson PGD\n",
    "sol, intercept, primals, gaps, times = prox_grad(X, y, gamma/X.shape[0]*Lambda, fit_intercept=False, anderson=True, tol=1e-12/X.shape[0], max_epochs=1_000_000)\n",
    "time_pgd =np.mean(repeat('prox_grad(X, y, gamma/X.shape[0]*Lambda, fit_intercept=False, anderson=True, tol=1e-12/X.shape[0], max_epochs=1_000_000)',\n",
    "                   repeat=nb_runs, number=nb_loops, globals=globals()))/nb_loops\n",
    "print(f'Anderson PGD: {time_pgd:.2e}s')\n",
    "print(sol, X.shape[0]*primals[-1], X.shape[0]*gaps[-1], '\\n')\n",
    "\n",
    "# ADMM (with rho=100)\n",
    "sol, intercept, primals, gaps, times = admm(X, y, gamma/X.shape[0]*Lambda, fit_intercept=False, rho=100, adaptive_rho=False, tol=1e-12/X.shape[0], max_epochs=1_000_000)\n",
    "time_admm =np.mean(repeat('admm(X, y, gamma/X.shape[0]*Lambda, fit_intercept=False, rho=100, adaptive_rho=False, tol=1e-12/X.shape[0], max_epochs=1_000_000)',\n",
    "                   repeat=nb_runs, number=nb_loops, globals=globals()))/nb_loops\n",
    "print(f'ADMM: {time_admm:.2e}s')\n",
    "print(sol, X.shape[0]*primals[-1], X.shape[0]*gaps[-1], '\\n')\n",
    "\n",
    "# hybrid CD\n",
    "sol, intercept, primals, gaps, times, n_cluster = hybrid_cd(X, y, gamma/X.shape[0]*Lambda, fit_intercept=False, tol=1e-12/X.shape[0])\n",
    "time_cd =np.mean(repeat('hybrid_cd(X, y, gamma/X.shape[0]*Lambda, fit_intercept=False, tol=1e-12/X.shape[0])',\n",
    "                   repeat=nb_runs, number=nb_loops, globals=globals()))/nb_loops\n",
    "print(f'hybrid CD: {time_cd:.2e}s')\n",
    "print(sol, X.shape[0]*primals[-1], X.shape[0]*gaps[-1], '\\n')\n",
    "\n",
    "# path (our)\n",
    "sol, (primal, gap), k = path_solver(X, y, gamma*Lambda, k_max=1e3, rtol_pattern=1e-10, atol_pattern = 1e-10, rtol_gamma=1e-10, split_max=1e1, log=0)\n",
    "time_path =np.mean(repeat('path_solver(X, y, gamma*Lambda, k_max=1e3, rtol_pattern=1e-10, atol_pattern = 1e-10, rtol_gamma=1e-10, split_max=1e1, log=0)',\n",
    "                   repeat=nb_runs, number=nb_loops, globals=globals()))/nb_loops\n",
    "print(f'path (our): {time_path:.2e}s')\n",
    "print(sol, primal, gap, '\\n')\n",
    "\n",
    "# # oracle CD\n",
    "# sol, intercept, primals, gaps, times = oracle_cd(X, y, gamma/X.shape[0]*Lambda, fit_intercept=False, tol=1e-12)\n",
    "# print(sol, X.shape[0]*primals[-1], gaps[-1])\n",
    "# time_oracle =np.mean(repeat('oracle_cd(X, y, gamma/X.shape[0]*Lambda, fit_intercept=False, tol=1e-12)',\n",
    "#                    repeat=nb_runs, number=nb_loops, globals=globals()))/nb_loops\n",
    "# print(f'oracle CD: {time_oracle:.2e}s')\n",
    "\n",
    "# # Newt-ALM\n",
    "# sol, intercept, primals, gaps, times = newt_alm(X, y, gamma/X.shape[0]*Lambda, fit_intercept=False, tol=1e-12)\n",
    "# print(sol, X.shape[0]*primals[-1], gaps[-1])\n",
    "# time_newt_alm =np.mean(repeat('newt_alm(X, y, gamma/X.shape[0]*Lambda, fit_intercept=False, tol=1e-12)',\n",
    "#                    repeat=nb_runs, number=nb_loops, globals=globals()))/nb_loops\n",
    "# print(f'Newt-ALM: {time_newt_alm:.2e}s')"
   ]
  },
  {
   "cell_type": "code",
   "execution_count": 17,
   "metadata": {},
   "outputs": [],
   "source": [
    "benchmark = pd.DataFrame({},index=['hybrid CD', 'path (our)']) #'FISTA', 'Anderson PGD', 'ADMM (rho=100)',\n",
    "benchmark.columns.name='gamma / gamma_max'"
   ]
  },
  {
   "cell_type": "code",
   "execution_count": 18,
   "metadata": {},
   "outputs": [],
   "source": [
    "# Benchmark\n",
    "nb_loops = 100; nb_runs = 7\n",
    "\n",
    "for ratio in [0.5, 0.1]:\n",
    "    gamma = ratio*dual_norm(X.T@y, Lambda)\n",
    "    # time_fista =np.mean(repeat('prox_grad(X, y, gamma/X.shape[0]*Lambda, fit_intercept=False, fista=True, tol=1e-12/X.shape[0], max_epochs=100_000)',\n",
    "    #                     repeat=nb_runs, number=nb_loops, globals=globals()))/nb_loops\n",
    "    # time_pgd =np.mean(repeat('prox_grad(X, y, gamma/X.shape[0]*Lambda, fit_intercept=False, anderson=True, tol=1e-12/X.shape[0], max_epochs=20_000)',\n",
    "    #                   repeat=nb_runs, number=nb_loops, globals=globals()))/nb_loops\n",
    "    # time_admm =np.mean(repeat('admm(X, y, gamma/X.shape[0]*Lambda, fit_intercept=False, rho=100, adaptive_rho=False, tol=1e-12/X.shape[0], max_epochs=100_000)',\n",
    "    #                     repeat=nb_runs, number=nb_loops, globals=globals()))/nb_loops\n",
    "    time_cd =np.mean(repeat('hybrid_cd(X, y, gamma/X.shape[0]*Lambda, fit_intercept=False, tol=1e-12/X.shape[0])',\n",
    "                        repeat=nb_runs, number=nb_loops, globals=globals()))/nb_loops\n",
    "    time_path =np.mean(repeat('path_solver(X, y, gamma*Lambda, k_max=1e3, rtol_pattern=1e-10, atol_pattern = 1e-10, rtol_gamma=1e-10, split_max=1e1, log=0)',\n",
    "                        repeat=nb_runs, number=nb_loops, globals=globals()))/nb_loops\n",
    "    benchmark[f'{ratio}'] = [time_cd, time_path]\n"
   ]
  },
  {
   "cell_type": "code",
   "execution_count": 1,
   "metadata": {},
   "outputs": [
    {
     "ename": "NameError",
     "evalue": "name 'pd' is not defined",
     "output_type": "error",
     "traceback": [
      "\u001b[0;31m---------------------------------------------------------------------------\u001b[0m",
      "\u001b[0;31mNameError\u001b[0m                                 Traceback (most recent call last)",
      "\u001b[1;32m/Users/xdupuis/Research/slope-path/github/experiments/solvers_benchmarks/riboflavin_benchmark.ipynb Cell 9\u001b[0m line \u001b[0;36m1\n\u001b[0;32m----> <a href='vscode-notebook-cell:/Users/xdupuis/Research/slope-path/github/experiments/solvers_benchmarks/riboflavin_benchmark.ipynb#X11sZmlsZQ%3D%3D?line=0'>1</a>\u001b[0m \u001b[39mwith\u001b[39;00m pd\u001b[39m.\u001b[39moption_context(\u001b[39m'\u001b[39m\u001b[39mdisplay.float_format\u001b[39m\u001b[39m'\u001b[39m, \u001b[39m'\u001b[39m\u001b[39m{:,.2e}\u001b[39;00m\u001b[39m'\u001b[39m\u001b[39m.\u001b[39mformat):\n\u001b[1;32m      <a href='vscode-notebook-cell:/Users/xdupuis/Research/slope-path/github/experiments/solvers_benchmarks/riboflavin_benchmark.ipynb#X11sZmlsZQ%3D%3D?line=1'>2</a>\u001b[0m     display(benchmark)\n",
      "\u001b[0;31mNameError\u001b[0m: name 'pd' is not defined"
     ]
    }
   ],
   "source": [
    "with pd.option_context('display.float_format', '{:,.2e}'.format):\n",
    "    display(benchmark)"
   ]
  },
  {
   "cell_type": "code",
   "execution_count": null,
   "metadata": {},
   "outputs": [],
   "source": [
    "benchmark.to_csv('../results/riboflavin_benchmark.csv', float_format='{:.2e}'.format, mode='a')"
   ]
  },
  {
   "cell_type": "code",
   "execution_count": null,
   "metadata": {},
   "outputs": [],
   "source": [
    "# with open('../results/riboflavin_benchmark.txt', 'a') as f:\n",
    "#                 f.write(benchmark.to_latex(float_format='{:.2e}'.format))"
   ]
  }
 ],
 "metadata": {
  "kernelspec": {
   "display_name": "Python 3 (ipykernel)",
   "language": "python",
   "name": "python3"
  },
  "language_info": {
   "codemirror_mode": {
    "name": "ipython",
    "version": 3
   },
   "file_extension": ".py",
   "mimetype": "text/x-python",
   "name": "python",
   "nbconvert_exporter": "python",
   "pygments_lexer": "ipython3",
   "version": "3.9.18"
  }
 },
 "nbformat": 4,
 "nbformat_minor": 4
}
