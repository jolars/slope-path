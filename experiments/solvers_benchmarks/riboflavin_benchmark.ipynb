{
 "cells": [
  {
   "cell_type": "markdown",
   "metadata": {},
   "source": [
    "# Solvers benchmark on the `Riboflavin` data set\n",
    "\n",
    "The data set can be downloaded from <https://www.annualreviews.org/doi/suppl/10.1146/annurev-statistics-022513-115545>.\n",
    "\n",
    "The solvers (except our `path_solver`) were coded by Larsson et al. for the benchmark of their paper *Coordinate Descent for SLOPE*; their code is available at <https://github.com/jolars/slopecd> and needs to be installed to run the simulations here."
   ]
  },
  {
   "cell_type": "code",
   "execution_count": 1,
   "metadata": {},
   "outputs": [],
   "source": [
    "import sys\n",
    "import numpy as np\n",
    "import pandas as pd\n",
    "from timeit import repeat\n",
    "\n",
    "sys.path.append('../..')\n",
    "from modules import path_solver, dual_sorted_L1_norm as dual_norm\n",
    "from slope.solvers import prox_grad, admm, hybrid_cd #, newt_alm, oracle_cd"
   ]
  },
  {
   "cell_type": "code",
   "execution_count": 2,
   "metadata": {},
   "outputs": [],
   "source": [
    "# Import of the data set\n",
    "ribo = pd.read_csv('../datasets/riboflavin.csv', sep=',', index_col=0).T\n",
    "data = ribo.drop(columns='q_RIBFLV')\n",
    "target = ribo['q_RIBFLV']"
   ]
  },
  {
   "cell_type": "code",
   "execution_count": 3,
   "metadata": {},
   "outputs": [],
   "source": [
    "# Setting (and data standardization)\n",
    "X = data.to_numpy(dtype=float)\n",
    "X_mean = X.mean(axis=0)\n",
    "X_std = X.std(axis=0, ddof=0)\n",
    "X = (X - X_mean) / X_std\n",
    "\n",
    "y = target.to_numpy(dtype=float)\n",
    "y_mean = y.mean()\n",
    "y = y - y_mean \n",
    "\n",
    "Lambda = np.linspace(4,1,X.shape[-1],dtype=float)"
   ]
  },
  {
   "cell_type": "code",
   "execution_count": 4,
   "metadata": {},
   "outputs": [],
   "source": [
    "# # Numba compilation\n",
    "# _ = path_solver(X, y, Lambda, k_max=0., rtol_pattern=1e-6, atol_pattern = 1e-6, rtol_gamma=1e-6, split_max=1e1, log=0)\n",
    "# _ = hybrid_cd(X, y, Lambda, fit_intercept=False, tol=1e-1)\n",
    "# # _ = oracle_cd(X, y, Lambda, fit_intercept=False, tol=1e-1)\n",
    "# _ = admm(X, y, Lambda, fit_intercept=False, rho=100, adaptive_rho=False, tol=1e-1)\n",
    "# # _ = newt_alm(X, y, Lambda, fit_intercept=False, tol=1e-1)\n",
    "# _ = prox_grad(X, y, Lambda, fit_intercept=False, tol=1e-1)"
   ]
  },
  {
   "cell_type": "code",
   "execution_count": 5,
   "metadata": {},
   "outputs": [
    {
     "name": "stdout",
     "output_type": "stream",
     "text": [
      "FISTA: 1.10e+02s\n",
      "[ 0. -0. -0. ...  0. -0.  0.] 24.573028434631915 7.251976796851523e-13 \n",
      "\n"
     ]
    },
    {
     "name": "stderr",
     "output_type": "stream",
     "text": [
      "/Users/xdupuis/miniconda3/envs/slopecd/lib/python3.9/site-packages/slope/solvers/pgd.py:67: RuntimeWarning: divide by zero encountered in true_divide\n",
      "  c = coefs / coefs.sum()\n",
      "/Users/xdupuis/miniconda3/envs/slopecd/lib/python3.9/site-packages/slope/solvers/pgd.py:67: RuntimeWarning: invalid value encountered in true_divide\n",
      "  c = coefs / coefs.sum()\n",
      "/Users/xdupuis/miniconda3/envs/slopecd/lib/python3.9/site-packages/slope/solvers/pgd.py:68: RuntimeWarning: invalid value encountered in multiply\n",
      "  w_acc = np.sum(last_K_w[:-1] * c[:, None], axis=0)\n",
      "/Users/xdupuis/miniconda3/envs/slopecd/lib/python3.9/site-packages/numpy/core/fromnumeric.py:86: RuntimeWarning: invalid value encountered in reduce\n",
      "  return ufunc.reduce(obj, axis, dtype, out, **passkwargs)\n"
     ]
    },
    {
     "name": "stdout",
     "output_type": "stream",
     "text": [
      "Anderson PGD: 1.58e+01s\n",
      "[ 0. -0. -0. ...  0. -0.  0.] 24.57302843463191 7.567280135845067e-13 \n",
      "\n",
      "ADMM: 6.51e+02s\n",
      "[ 6.24500451e-17  1.38777878e-16  9.71445147e-17 ...  6.93889390e-17\n",
      "  8.58688121e-17 -2.77555756e-17] 24.573028434635113 3.2318592246838307e-12 \n",
      "\n"
     ]
    },
    {
     "name": "stderr",
     "output_type": "stream",
     "text": [
      "/Users/xdupuis/miniconda3/envs/slopecd/lib/python3.9/site-packages/slope/solvers/hybrid.py:45: NumbaPerformanceWarning: '@' is faster on contiguous arrays, called on (Array(float64, 1, 'A', False, aligned=True), Array(float64, 1, 'A', False, aligned=True))\n",
      "  XTX[ind] = (X[:, ind] @ X[:, ind]) / n_samples\n"
     ]
    },
    {
     "name": "stdout",
     "output_type": "stream",
     "text": [
      "hybrid CD: 4.00e-02s\n",
      "[ 0. -0. -0. ...  0. -0.  0.] 24.57302843463192 3.1530333899354446e-14 \n",
      "\n"
     ]
    },
    {
     "name": "stderr",
     "output_type": "stream",
     "text": [
      "/Users/xdupuis/Research/slope-path/github/experiments/solvers_benchmarks/../../modules/solvers.py:89: NumbaExperimentalFeatureWarning: Use of isinstance() detected. This is an experimental feature.\n",
      "  m = face_pattern(grad, Lambda, rtol_pattern, atol_pattern)\n"
     ]
    },
    {
     "name": "stdout",
     "output_type": "stream",
     "text": [
      "path (our): 3.75e-02s\n",
      "[0. 0. 0. ... 0. 0. 0.] 24.573028434631908 0.0 \n",
      "\n"
     ]
    }
   ],
   "source": [
    "# Check-up and numba compilation\n",
    "ratio = 0.5; gamma = ratio*dual_norm(X.T@y, Lambda)\n",
    "nb_loops = 1; nb_runs = 1\n",
    "\n",
    "# FISTA\n",
    "sol, intercept, primals, gaps, times = prox_grad(X, y, gamma/X.shape[0]*Lambda, fit_intercept=False, fista=True, tol=1e-12/X.shape[0], max_epochs=1_000_000)\n",
    "time_fista =np.mean(repeat('prox_grad(X, y, gamma/X.shape[0]*Lambda, fit_intercept=False, fista=True, tol=1e-12/X.shape[0], max_epochs=1_000_000)',\n",
    "                   repeat=nb_runs, number=nb_loops, globals=globals()))/nb_loops\n",
    "print(f'FISTA: {time_fista:.2e}s')\n",
    "print(sol, X.shape[0]*primals[-1], X.shape[0]*gaps[-1], '\\n')\n",
    "\n",
    "# Anderson PGD\n",
    "sol, intercept, primals, gaps, times = prox_grad(X, y, gamma/X.shape[0]*Lambda, fit_intercept=False, anderson=True, tol=1e-12/X.shape[0], max_epochs=1_000_000)\n",
    "time_pgd =np.mean(repeat('prox_grad(X, y, gamma/X.shape[0]*Lambda, fit_intercept=False, anderson=True, tol=1e-12/X.shape[0], max_epochs=1_000_000)',\n",
    "                   repeat=nb_runs, number=nb_loops, globals=globals()))/nb_loops\n",
    "print(f'Anderson PGD: {time_pgd:.2e}s')\n",
    "print(sol, X.shape[0]*primals[-1], X.shape[0]*gaps[-1], '\\n')\n",
    "\n",
    "# ADMM (with rho=100)\n",
    "sol, intercept, primals, gaps, times = admm(X, y, gamma/X.shape[0]*Lambda, fit_intercept=False, rho=100, adaptive_rho=False, tol=1e-12/X.shape[0], max_epochs=1_000_000)\n",
    "time_admm =np.mean(repeat('admm(X, y, gamma/X.shape[0]*Lambda, fit_intercept=False, rho=100, adaptive_rho=False, tol=1e-12/X.shape[0], max_epochs=1_000_000)',\n",
    "                   repeat=nb_runs, number=nb_loops, globals=globals()))/nb_loops\n",
    "print(f'ADMM: {time_admm:.2e}s')\n",
    "print(sol, X.shape[0]*primals[-1], X.shape[0]*gaps[-1], '\\n')\n",
    "\n",
    "# hybrid CD\n",
    "sol, intercept, primals, gaps, times, n_cluster = hybrid_cd(X, y, gamma/X.shape[0]*Lambda, fit_intercept=False, tol=1e-12/X.shape[0])\n",
    "time_cd =np.mean(repeat('hybrid_cd(X, y, gamma/X.shape[0]*Lambda, fit_intercept=False, tol=1e-12/X.shape[0])',\n",
    "                   repeat=nb_runs, number=nb_loops, globals=globals()))/nb_loops\n",
    "print(f'hybrid CD: {time_cd:.2e}s')\n",
    "print(sol, X.shape[0]*primals[-1], X.shape[0]*gaps[-1], '\\n')\n",
    "\n",
    "# path (our)\n",
    "sol, (primal, gap), k = path_solver(X, y, gamma*Lambda, k_max=1e3, rtol_pattern=1e-10, atol_pattern = 1e-10, rtol_gamma=1e-10, split_max=1e1, log=0)\n",
    "time_path =np.mean(repeat('path_solver(X, y, gamma*Lambda, k_max=1e3, rtol_pattern=1e-10, atol_pattern = 1e-10, rtol_gamma=1e-10, split_max=1e1, log=0)',\n",
    "                   repeat=nb_runs, number=nb_loops, globals=globals()))/nb_loops\n",
    "print(f'path (our): {time_path:.2e}s')\n",
    "print(sol, primal, gap, '\\n')\n",
    "\n",
    "# # oracle CD\n",
    "# sol, intercept, primals, gaps, times = oracle_cd(X, y, gamma/X.shape[0]*Lambda, fit_intercept=False, tol=1e-12)\n",
    "# print(sol, X.shape[0]*primals[-1], gaps[-1])\n",
    "# time_oracle =np.mean(repeat('oracle_cd(X, y, gamma/X.shape[0]*Lambda, fit_intercept=False, tol=1e-12)',\n",
    "#                    repeat=nb_runs, number=nb_loops, globals=globals()))/nb_loops\n",
    "# print(f'oracle CD: {time_oracle:.2e}s')\n",
    "\n",
    "# # Newt-ALM\n",
    "# sol, intercept, primals, gaps, times = newt_alm(X, y, gamma/X.shape[0]*Lambda, fit_intercept=False, tol=1e-12)\n",
    "# print(sol, X.shape[0]*primals[-1], gaps[-1])\n",
    "# time_newt_alm =np.mean(repeat('newt_alm(X, y, gamma/X.shape[0]*Lambda, fit_intercept=False, tol=1e-12)',\n",
    "#                    repeat=nb_runs, number=nb_loops, globals=globals()))/nb_loops\n",
    "# print(f'Newt-ALM: {time_newt_alm:.2e}s')"
   ]
  },
  {
   "cell_type": "code",
   "execution_count": 11,
   "metadata": {},
   "outputs": [],
   "source": [
    "benchmark = pd.DataFrame({},index=['Anderson PGD', 'hybrid CD', 'path (our)'])\n",
    "benchmark.columns.name='gamma / gamma_max'"
   ]
  },
  {
   "cell_type": "code",
   "execution_count": 12,
   "metadata": {},
   "outputs": [
    {
     "name": "stderr",
     "output_type": "stream",
     "text": [
      "/Users/xdupuis/miniconda3/envs/slopecd/lib/python3.9/site-packages/slope/solvers/pgd.py:67: RuntimeWarning: divide by zero encountered in true_divide\n",
      "  c = coefs / coefs.sum()\n",
      "/Users/xdupuis/miniconda3/envs/slopecd/lib/python3.9/site-packages/slope/solvers/pgd.py:67: RuntimeWarning: invalid value encountered in true_divide\n",
      "  c = coefs / coefs.sum()\n",
      "/Users/xdupuis/miniconda3/envs/slopecd/lib/python3.9/site-packages/slope/solvers/pgd.py:68: RuntimeWarning: invalid value encountered in multiply\n",
      "  w_acc = np.sum(last_K_w[:-1] * c[:, None], axis=0)\n",
      "/Users/xdupuis/miniconda3/envs/slopecd/lib/python3.9/site-packages/numpy/core/fromnumeric.py:86: RuntimeWarning: invalid value encountered in reduce\n",
      "  return ufunc.reduce(obj, axis, dtype, out, **passkwargs)\n"
     ]
    },
    {
     "data": {
      "text/html": [
       "<div>\n",
       "<style scoped>\n",
       "    .dataframe tbody tr th:only-of-type {\n",
       "        vertical-align: middle;\n",
       "    }\n",
       "\n",
       "    .dataframe tbody tr th {\n",
       "        vertical-align: top;\n",
       "    }\n",
       "\n",
       "    .dataframe thead th {\n",
       "        text-align: right;\n",
       "    }\n",
       "</style>\n",
       "<table border=\"1\" class=\"dataframe\">\n",
       "  <thead>\n",
       "    <tr style=\"text-align: right;\">\n",
       "      <th>gamma / gamma_max</th>\n",
       "      <th>0.5</th>\n",
       "    </tr>\n",
       "  </thead>\n",
       "  <tbody>\n",
       "    <tr>\n",
       "      <th>Anderson PGD</th>\n",
       "      <td>1.45e+01</td>\n",
       "    </tr>\n",
       "    <tr>\n",
       "      <th>hybrid CD</th>\n",
       "      <td>4.19e-02</td>\n",
       "    </tr>\n",
       "    <tr>\n",
       "      <th>path (our)</th>\n",
       "      <td>3.83e-02</td>\n",
       "    </tr>\n",
       "  </tbody>\n",
       "</table>\n",
       "</div>"
      ],
      "text/plain": [
       "gamma / gamma_max      0.5\n",
       "Anderson PGD      1.45e+01\n",
       "hybrid CD         4.19e-02\n",
       "path (our)        3.83e-02"
      ]
     },
     "metadata": {},
     "output_type": "display_data"
    }
   ],
   "source": [
    "# Benchmark\n",
    "nb_loops = 100; nb_runs = 7 \n",
    "\n",
    "# for ratio in [0.5, 0.1, 0.02]:\n",
    "gamma = ratio*dual_norm(X.T@y, Lambda)\n",
    "# time_fista =np.mean(repeat('prox_grad(X, y, gamma/X.shape[0]*Lambda, fit_intercept=False, fista=True, tol=1e-12/X.shape[0], max_epochs=100_000)',\n",
    "#                     repeat=nb_runs, number=nb_loops, globals=globals()))/nb_loops\n",
    "time_pgd =np.mean(repeat('prox_grad(X, y, gamma/X.shape[0]*Lambda, fit_intercept=False, anderson=True, tol=1e-12/X.shape[0], max_epochs=20_000)',\n",
    "                  repeat=nb_runs, number=nb_loops, globals=globals()))/nb_loops\n",
    "# time_admm =np.mean(repeat('admm(X, y, gamma/X.shape[0]*Lambda, fit_intercept=False, rho=100, adaptive_rho=False, tol=1e-12/X.shape[0], max_epochs=100_000)',\n",
    "#                     repeat=nb_runs, number=nb_loops, globals=globals()))/nb_loops\n",
    "time_cd =np.mean(repeat('hybrid_cd(X, y, gamma/X.shape[0]*Lambda, fit_intercept=False, tol=1e-12/X.shape[0])',\n",
    "                    repeat=nb_runs, number=nb_loops, globals=globals()))/nb_loops\n",
    "time_path =np.mean(repeat('path_solver(X, y, gamma*Lambda, k_max=1e3, rtol_pattern=1e-10, atol_pattern = 1e-10, rtol_gamma=1e-10, split_max=1e1, log=0)',\n",
    "                    repeat=nb_runs, number=nb_loops, globals=globals()))/nb_loops\n",
    "benchmark[f'{ratio}'] = [time_pgd, time_cd, time_path]\n"
   ]
  },
  {
   "cell_type": "code",
   "execution_count": null,
   "metadata": {},
   "outputs": [],
   "source": [
    "with pd.option_context('display.float_format', '{:,.2e}'.format):\n",
    "    display(benchmark)"
   ]
  },
  {
   "cell_type": "code",
   "execution_count": 13,
   "metadata": {},
   "outputs": [],
   "source": [
    "benchmark.to_csv('../results/riboflavin_benchmark.csv', float_format='{:.2e}'.format, mode='a')"
   ]
  },
  {
   "cell_type": "code",
   "execution_count": 14,
   "metadata": {},
   "outputs": [],
   "source": [
    "with open('../results/riboflavin_benchmark.txt', 'a') as f:\n",
    "                f.write(benchmark.to_latex(float_format='{:.2e}'.format))"
   ]
  }
 ],
 "metadata": {
  "kernelspec": {
   "display_name": "Python 3 (ipykernel)",
   "language": "python",
   "name": "python3"
  },
  "language_info": {
   "codemirror_mode": {
    "name": "ipython",
    "version": 3
   },
   "file_extension": ".py",
   "mimetype": "text/x-python",
   "name": "python",
   "nbconvert_exporter": "python",
   "pygments_lexer": "ipython3",
   "version": "3.9.18"
  }
 },
 "nbformat": 4,
 "nbformat_minor": 4
}
